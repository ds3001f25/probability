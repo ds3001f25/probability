{
 "cells": [
  {
   "cell_type": "markdown",
   "id": "b9f34373-7724-4261-a1a1-d50fda1eab1f",
   "metadata": {
    "slideshow": {
     "slide_type": "slide"
    }
   },
   "source": [
    "# Probability\n",
    "### `! git clone https://github.com/ds3001f25/probability.git`"
   ]
  },
  {
   "cell_type": "code",
   "execution_count": 1,
   "id": "03ca7144",
   "metadata": {
    "slideshow": {
     "slide_type": "-"
    }
   },
   "outputs": [],
   "source": [
    "import numpy as np\n",
    "import pandas as pd\n",
    "import matplotlib.pyplot as plt\n",
    "import seaborn as sns"
   ]
  },
  {
   "cell_type": "markdown",
   "id": "98ef2709-651c-4e2a-9cd2-196c7ff931c1",
   "metadata": {
    "slideshow": {
     "slide_type": "slide"
    }
   },
   "source": [
    "## Probability\n",
    "- So we have some skills to get data and put into a workable form (data wrangling, EDA, visualization)\n",
    "- We have some basic but powerful tools to analyze data and create predictive models ($k$-NN, $k$-MC, linear models, decision trees, PCA)\n",
    "- We want to ask questions like, How much uncertainty does there appear to be in our predictions? How well is this model likely to perform on new data? Does this model work well in any absolute sense?\n",
    "- To proceed, we need to add some more ideas about probability and randomness, in order to communicate with each other and understand tools\n",
    "- These two lectures (probability and bootstrapping) are probably the most difficult in the class, but the payoff is absolutely worth it"
   ]
  },
  {
   "cell_type": "markdown",
   "id": "821aac76-aff4-484d-9da4-159c814b813d",
   "metadata": {
    "slideshow": {
     "slide_type": "slide"
    }
   },
   "source": [
    "## A Fair Die\n",
    "- Let's consider something very simple: Rolling a \"fair\" 6-sided die where each side is equally likely.\n",
    "- There are six sides with pips $\\cdot$, $2\\cdot$, $3\\cdot$, $4\\cdot$, $5\\cdot$, and $6 \\cdot$\n",
    "- Besides the sides themselves, we can define outcomes like *odd*, $\\left\\lbrace 1\\cdot, 3\\cdot, 5\\cdot \\right\\rbrace$, and *even*, $\\left\\lbrace 2\\cdot, 4\\cdot, 6\\cdot \\right\\rbrace$.\n",
    "- If each side is equally likely, the probability we observe any given side should be 1/6; this allows us to work out the likelihood of observing any particular collection of sides, like even or odd.\n",
    "- What are all these ideas, in an abstract sense?"
   ]
  },
  {
   "cell_type": "markdown",
   "id": "7af47cf4-ee4c-4ded-9b7a-d2e0662aac4f",
   "metadata": {
    "slideshow": {
     "slide_type": "slide"
    }
   },
   "source": [
    "## A Fair Die\n",
    "- There are six sides with pips $\\cdot$, $2\\cdot$, $3\\cdot$, $4\\cdot$, $5\\cdot$, and $6\\cdot$. \n",
    "  - **This is called the *sample space* and each possibility in it is called an outcome**.\n",
    "- Besides the sides themselves, we can define outcomes like *odd*, $\\left\\lbrace 1\\cdot, 3\\cdot, 5\\cdot \\right\\rbrace$, and *even*, $\\left\\lbrace 2\\cdot, 4\\cdot, 6\\cdot \\right\\rbrace$. \n",
    "  - **This is called the set of *events*: all of the \"relevant\" sets of outcomes that might occur.**\n",
    "- If each side is equally likely, the probability we observe any given side should be 1/6; this allows us to work out the likelihood of observing any particular collection of sides, like even or odd. \n",
    "  - **This is called a *probability mass function*** (or discrete probability density function) **, associating every set of events with a number (probability) between 0 and 1.**"
   ]
  },
  {
   "cell_type": "markdown",
   "id": "16032d51-a757-4f8f-9c2b-d80019fa383c",
   "metadata": {
    "slideshow": {
     "slide_type": "slide"
    }
   },
   "source": [
    "## Probabilities\n",
    "- There are many nuances about what rules a \"probability function\" must satisfy that we are going to gloss over\n",
    "- The key rules are these:\n",
    "  - The probability of nothing happening is zero, the probability of something happening is 1\n",
    "  - The probability of every event is between zero and 1\n",
    "  - If you have a set of events $e_1, e_2, ..., e_N$ where no outcome occurs in more than one event (e.g. even and odd), then\n",
    "  $$\n",
    "  p(e_1 \\cup e_2 \\cup ... \\cup e_N) = p(e_1) + p(e_2) + ... + p(e_N)\n",
    "  $$\n",
    "- Everything we talk about today holds for situations where there are a finite or infinite number of outcomes, as long as you set things up \"correctly\""
   ]
  },
  {
   "cell_type": "markdown",
   "id": "8c2eb711-265d-43b7-a1e0-7074c373bc42",
   "metadata": {
    "slideshow": {
     "slide_type": "slide"
    }
   },
   "source": [
    "## Notation\n",
    "- Let's call the sample space $S$ and individual outcomes $x$\n",
    "- Let's call the set of all events $E$ and an individual event $e$\n",
    "- Let's call the probability function $p(e)$\n",
    "- We can write that \n",
    "    1. $p(S)=1$\n",
    "    2. $0 \\le p(e) $ for all events $e$ in $E$\n",
    "    3. If every outcome appears at most once in a set of events $e_1, ..., e_n$, $p(e_1 \\cup e_2 \\cup ... \\cup e_n) = \\sum_{i=1}^n p(e_i)$"
   ]
  },
  {
   "cell_type": "markdown",
   "id": "516db8cf-35bc-4fb0-8b92-1fe51057acdd",
   "metadata": {
    "slideshow": {
     "slide_type": "slide"
    }
   },
   "source": [
    "## Betting on Dice\n",
    "- For example, let's bet on the roll of two six-sided die\n",
    "- An outcome is a pair of die faces, like $(3\\cdot,6\\cdot)$. The sample space is:\n",
    "$$\n",
    "\\left[ \\begin{array}{cccccc}\n",
    "(1\\cdot,1\\cdot) & (1\\cdot,2\\cdot) & (1\\cdot,3\\cdot) & (1\\cdot,4\\cdot) & (1\\cdot,5\\cdot) & (1\\cdot,6\\cdot) \\\\\n",
    "(2\\cdot,1\\cdot) & (2\\cdot,2\\cdot) & (2\\cdot,3\\cdot) & (2\\cdot,4\\cdot) & (2\\cdot,5\\cdot) & (2\\cdot,6\\cdot) \\\\\n",
    "(3\\cdot,1\\cdot) & (3\\cdot,2\\cdot) & (3\\cdot,3\\cdot) & (3\\cdot,4\\cdot) & (3\\cdot,5\\cdot) & (3\\cdot,6\\cdot) \\\\\n",
    "(4\\cdot,1\\cdot) & (4\\cdot,2\\cdot) & (4\\cdot,3\\cdot) & (4\\cdot,4\\cdot) & (4\\cdot,5\\cdot) & (4\\cdot,6\\cdot) \\\\\n",
    "(5\\cdot,1\\cdot) & (5\\cdot,2\\cdot) & (5\\cdot,3\\cdot) & (5\\cdot,4\\cdot) & (5\\cdot,5\\cdot) & (5\\cdot,6\\cdot) \\\\\n",
    "(6\\cdot,1\\cdot) & (6\\cdot,2\\cdot) & (6\\cdot,3\\cdot) & (6\\cdot,4\\cdot) & (6\\cdot,5\\cdot) & (6\\cdot,6\\cdot) \n",
    "\\end{array} \\right]\n",
    "$$\n",
    "- The events $E$ are all of the subsets of the above matrix (e.g. \"All rolls where both results are even\", \"all rolls that sum to 7\", \"All rolls where both the dice show the same outcome\")\n",
    "- For fair dice, each pair above is equally likely with probabilty $1/36$\n",
    "- Notice, the outcomes here aren't strictly numeric: They could be colors, animals, job titles, car models, anything. Outcomes aren't fundamentally numeric."
   ]
  },
  {
   "cell_type": "markdown",
   "id": "186dd0f6",
   "metadata": {
    "slideshow": {
     "slide_type": "slide"
    }
   },
   "source": [
    "# Random Variables, Expectation, Variance"
   ]
  },
  {
   "cell_type": "markdown",
   "id": "76d1776a-fb99-4cb1-853b-66a30b126d8f",
   "metadata": {
    "slideshow": {
     "slide_type": "slide"
    }
   },
   "source": [
    "## Random Variables\n",
    "- A **random variable** is a rule that assigns numbers to outcomes\n",
    "- A random variable is a function $R$ that assigns a number $R(x)$ to each outcome $x$ in $S$\n",
    "- A random variable is how we quantify the consequences of an uncertain phenomenon\n",
    "- A random variable is not its probability function (e.g \"normal random variable\" is not really correct -- the random variable is normally distributed )"
   ]
  },
  {
   "cell_type": "markdown",
   "id": "7bf43332-b852-49d4-acb3-5b24d9822e85",
   "metadata": {
    "slideshow": {
     "slide_type": "slide"
    }
   },
   "source": [
    "## The Expectation\n",
    "- What value is a random variable going to take?\n",
    "- Since a random variable is a rule that assigns a numeric value to every outcome, we can weight those values by the probabilities they occur, and sum:\n",
    "$$\n",
    "\\mathbb{E}[R] = p(x_1) R(x_1) + p(x_2)R(x_2) + ... + p(x_N)R(x_N) = \\sum_{i =1}^N p(x_i)R(x_i)\n",
    "$$\n",
    "- If the outcomes are numbers and all equally likely, we can set $R(x_i) = x_i$ and $p(x_i) = 1/N$, which gives\n",
    "$$\n",
    "\\mathbb{E}[R] = \\dfrac{1}{N} x_1 + \\dfrac{1}{N} x_2 + ... + \\dfrac{1}{N} x_N = \\dfrac{1}{N} \\sum_{i =1}^N x_i\n",
    "$$\n",
    "- This is called the **expectation of $R$** or the **expected value of $R$**. It is often denoted by $\\mu$ or $\\mu_R$, to emphasize it's a theoretical/population value. \n",
    "- Notice that \n",
    "$\n",
    "\\mathbb{E}[aR] = \\sum_{i =1}^N p(x_i)aR(x_i) = a\\sum_{i =1}^N p(x_i)R(x_i) = a\\mathbb{E}[R]\n",
    "$"
   ]
  },
  {
   "cell_type": "markdown",
   "id": "9fe0c9a9-b1a5-4b59-aabe-d3410524798a",
   "metadata": {
    "slideshow": {
     "slide_type": "slide"
    }
   },
   "source": [
    "## Gambling\n",
    "\n",
    "$$\n",
    "\\left[ \\begin{array}{cccccc}\n",
    "(1\\cdot,1\\cdot) & (1\\cdot,2\\cdot) & (1\\cdot,3\\cdot) & (1\\cdot,4\\cdot) & (1\\cdot,5\\cdot) & (1\\cdot,6\\cdot) \\\\\n",
    "(2\\cdot,1\\cdot) & (2\\cdot,2\\cdot) & (2\\cdot,3\\cdot) & (2\\cdot,4\\cdot) & (2\\cdot,5\\cdot) & (2\\cdot,6\\cdot) \\\\\n",
    "(3\\cdot,1\\cdot) & (3\\cdot,2\\cdot) & (3\\cdot,3\\cdot) & (3\\cdot,4\\cdot) & (3\\cdot,5\\cdot) & (3\\cdot,6\\cdot) \\\\\n",
    "(4\\cdot,1\\cdot) & (4\\cdot,2\\cdot) & (4\\cdot,3\\cdot) & (4\\cdot,4\\cdot) & (4\\cdot,5\\cdot) & (4\\cdot,6\\cdot) \\\\\n",
    "(5\\cdot,1\\cdot) & (5\\cdot,2\\cdot) & (5\\cdot,3\\cdot) & (5\\cdot,4\\cdot) & (5\\cdot,5\\cdot) & (5\\cdot,6\\cdot) \\\\\n",
    "(6\\cdot,1\\cdot) & (6\\cdot,2\\cdot) & (6\\cdot,3\\cdot) & (6\\cdot,4\\cdot) & (6\\cdot,5\\cdot) & (6\\cdot,6\\cdot) \n",
    "\\end{array} \\right]\n",
    "$$\n",
    "\n",
    "- What's the expected value of rolling two dice, if you get the sum of the faces in money?"
   ]
  },
  {
   "cell_type": "markdown",
   "id": "b76f6372",
   "metadata": {
    "slideshow": {
     "slide_type": "fragment"
    }
   },
   "source": [
    "- What's the expected value of a gamble where you get 10 if the sum is strictly greater than 7, but -5 if the sum is weakly less than 7?"
   ]
  },
  {
   "cell_type": "markdown",
   "id": "debfefd7",
   "metadata": {
    "slideshow": {
     "slide_type": "fragment"
    }
   },
   "source": [
    "- What's the expected value of a gamble where you get 100 if the sum is odd and -50 if the sum is even?\n",
    "- What would you will be willing to pay for the above gambles?"
   ]
  },
  {
   "cell_type": "markdown",
   "id": "6ffd68c9-4402-443e-85d2-9bcb2b046209",
   "metadata": {
    "slideshow": {
     "slide_type": "slide"
    }
   },
   "source": [
    "## The Variance\n",
    "- The variance of a random variable is an abstraction of sample variance: There is no sample with $1/N$ weighting, and we compute weights against the probability function instead\n",
    "- The **variance of $R$** is\n",
    "$$\\mathbb{V}[R] = p(x_1)(R(x_1)-\\mathbb{E}[R])^2 + p(x_2)(R(x_2)-\\mathbb{E}[R])^2 + \n",
    "... + p(x_N)(R(x_N)-\\mathbb{E}[R])^2 = \\sum_{i=1}^N p(x_i)(R(x_i)-\\mathbb{E}[R])^2\n",
    "$$\n",
    "- You can also write this as\n",
    "$$\n",
    "\\mathbb{V}[R] = \\mathbb{E}\\left[ (R-\\mathbb{E}[R])^2\\right]= \\mathbb{E}\\left[ (R-\\mu_R)^2\\right]\n",
    "$$\n",
    "- The variance is often denoted $\\sigma^2$ or $\\sigma_R^2$, to emphasize it's a theoretical/population value. \n",
    "- Notice that \n",
    "$$\n",
    "\\mathbb{V}[aR] = \\mathbb{E}\\left[ (aR-\\mathbb{E}[aR])^2\\right]= \\mathbb{E}\\left[ a^2(R-\\mu_R)^2\\right] = a^2 \\mathbb{V}[R]\n",
    "$$"
   ]
  },
  {
   "cell_type": "markdown",
   "id": "69b058a6",
   "metadata": {
    "slideshow": {
     "slide_type": "slide"
    }
   },
   "source": [
    "# Random Number Generation in Python"
   ]
  },
  {
   "cell_type": "markdown",
   "id": "a18ad45e-d8fa-439f-a108-a7d83a93d4f0",
   "metadata": {
    "slideshow": {
     "slide_type": "slide"
    }
   },
   "source": [
    "- Suppose you have a set $S$, like $S = \\{1,2,3,4,5,6\\}$, or `S = np.arange(6)+1`. For example, suppose you want to sample observations from your data frame: that corresponds to `np.arange( df.shape[0])`.\n",
    "    - To **sample with replacement**, you can use Numpy's `random.choice(S,size=n)` function to take $n$ draws from $S$, with the potential for repetition\n",
    "    - To **sample without replacement**, you can use Numpy's `np.random.shuffle(S)` function to randomize the order of the elements in $S$, and then $S[:N]$ to slice the first $N$ elements from the shuffled $S$\n",
    "- To draw `N` numbers from between 0 and 1 with uniform probability, you can use `np.random.uniform(size=N)`\n",
    "- To draw `N` numbers from a normal distribution with mean $m$ and standard deviation $s$, you can use `np.random.normal(m,s,size=N)`"
   ]
  },
  {
   "cell_type": "code",
   "execution_count": 2,
   "id": "0ad2bc12-93dd-438d-838f-84ee0b9564ef",
   "metadata": {
    "slideshow": {
     "slide_type": "slide"
    }
   },
   "outputs": [
    {
     "name": "stdout",
     "output_type": "stream",
     "text": [
      "[4 1 3]\n",
      "[6 5 1 1 3 6 3 6 4 2]\n"
     ]
    }
   ],
   "source": [
    "S = np.array([1,2,3,4,5,6]) # Object to sample\n",
    "x = np.random.choice(S, size=3)\n",
    "print(x)\n",
    "x = np.random.choice(S, size=10)\n",
    "print(x)"
   ]
  },
  {
   "cell_type": "code",
   "execution_count": 3,
   "id": "8e912cd8-54d4-4a54-9eb2-64d64ac4f3da",
   "metadata": {
    "slideshow": {
     "slide_type": "slide"
    }
   },
   "outputs": [
    {
     "name": "stdout",
     "output_type": "stream",
     "text": [
      "[1 5 3 2 4 6]\n",
      "[1 5 3]\n"
     ]
    }
   ],
   "source": [
    "S = np.array([1,2,3,4,5,6]) # Object to sample\n",
    "N = 3 # Elements to take\n",
    "\n",
    "np.random.shuffle(S) # 1. Shuffle x\n",
    "print(S) \n",
    "y = S[:N] # 2. Take the first N elements\n",
    "print(y)"
   ]
  },
  {
   "cell_type": "code",
   "execution_count": 4,
   "id": "e40907be-367e-4a2e-be2a-c9dec29ebfea",
   "metadata": {
    "slideshow": {
     "slide_type": "slide"
    }
   },
   "outputs": [
    {
     "name": "stdout",
     "output_type": "stream",
     "text": [
      "[3.02751861e-01 9.15554190e-01 5.13610141e-01 8.04086547e-01\n",
      " 9.48148852e-01 7.93204191e-01 1.73226564e-01 3.13882857e-02\n",
      " 1.39841846e-01 6.40339855e-01 8.47692544e-02 5.61197048e-01\n",
      " 9.57404989e-01 6.56582246e-01 6.30188566e-02 4.28927877e-01\n",
      " 7.06751534e-02 2.69422401e-01 2.82662508e-01 8.67627872e-01\n",
      " 6.27522803e-01 2.40833330e-01 6.60784282e-01 9.48095428e-01\n",
      " 5.00096159e-01 3.30995402e-01 4.80721476e-01 1.77278131e-01\n",
      " 5.92212997e-01 7.41032315e-01 7.52472178e-01 7.95964613e-01\n",
      " 1.29795665e-02 5.09214436e-01 9.66179800e-01 1.68553596e-01\n",
      " 6.01941386e-01 2.80931079e-01 7.03810783e-01 5.21111714e-01\n",
      " 9.97108299e-01 8.47294807e-01 6.58021328e-01 1.81706563e-01\n",
      " 2.88172218e-01 4.92037813e-01 1.64110722e-01 7.24843110e-01\n",
      " 4.13311799e-01 1.77650919e-02 7.24448528e-01 3.88401221e-01\n",
      " 6.31942831e-01 8.23094350e-01 4.94765431e-01 3.69115371e-01\n",
      " 2.57631496e-01 2.36650105e-02 1.67699829e-02 4.69706659e-01\n",
      " 9.68349730e-01 6.68913420e-01 2.63437050e-01 5.11850449e-01\n",
      " 2.76817886e-01 3.12936504e-01 6.90972167e-01 8.25649936e-01\n",
      " 6.82668814e-01 6.21775193e-01 1.13057759e-01 9.90024145e-01\n",
      " 3.93346878e-01 2.61209854e-01 5.31094036e-01 4.19588725e-03\n",
      " 3.12565005e-01 8.12507274e-01 6.71632725e-01 6.84220452e-02\n",
      " 3.06294713e-01 4.65505836e-01 8.25674529e-01 4.08749687e-01\n",
      " 7.71488379e-01 2.54844930e-01 3.46174924e-01 8.42552643e-01\n",
      " 1.05124226e-01 1.92117946e-01 7.37628913e-01 7.40433190e-01\n",
      " 2.71017720e-01 9.63493082e-01 5.28131573e-01 9.71924023e-01\n",
      " 7.35681074e-01 7.78604169e-01 8.57691890e-01 3.03976901e-01\n",
      " 9.71127684e-01 3.53580223e-01 9.15961427e-01 4.59821698e-01\n",
      " 1.62303999e-01 6.79247984e-01 4.41015335e-01 9.91412480e-01\n",
      " 9.14685224e-01 2.99963784e-01 5.66557606e-01 9.64291485e-01\n",
      " 3.56821503e-01 9.24688397e-01 8.68254502e-01 6.55064061e-01\n",
      " 6.64474801e-01 1.61162163e-01 1.49447651e-01 5.62452476e-01\n",
      " 8.04310338e-01 8.35766929e-01 4.52296625e-01 3.79079432e-01\n",
      " 3.49088718e-01 6.08060104e-01 7.85401320e-01 9.34894674e-01\n",
      " 5.63205199e-01 5.62799884e-01 6.93908611e-01 6.84968688e-01\n",
      " 8.00203429e-01 4.67398523e-01 1.98737393e-01 4.64830101e-02\n",
      " 9.19446585e-01 5.46831568e-01 7.96550677e-01 1.75433715e-01\n",
      " 8.63263738e-01 8.82525573e-01 8.35501836e-01 1.81085206e-01\n",
      " 6.65106885e-01 8.55097029e-01 8.40453110e-01 6.90136213e-02\n",
      " 6.56618871e-01 1.10716127e-01 5.56515019e-01 7.82732888e-01\n",
      " 6.83324341e-01 1.78162054e-01 5.29229696e-01 3.85790858e-01\n",
      " 3.05260410e-01 5.46387393e-01 5.54621685e-01 4.59538126e-01\n",
      " 7.99522669e-02 9.29715945e-01 2.91569741e-01 9.45640270e-01\n",
      " 3.85089556e-01 5.40395755e-01 8.17494859e-01 2.19887338e-01\n",
      " 2.15803797e-02 4.85948156e-01 3.04849671e-01 5.52175975e-01\n",
      " 8.86075807e-01 8.27090604e-01 8.38162946e-01 6.44692408e-01\n",
      " 4.83404396e-01 8.50704242e-02 7.08115843e-01 2.85926757e-01\n",
      " 8.93043889e-01 7.36182880e-01 4.97701945e-01 8.34814732e-01\n",
      " 4.38709306e-01 5.78833508e-01 6.40806253e-01 6.02575965e-01\n",
      " 6.08238370e-01 8.19469043e-01 2.39683100e-01 1.81392064e-01\n",
      " 6.19674859e-01 2.43783723e-01 9.66788227e-01 7.75261183e-01\n",
      " 9.26767578e-01 9.69273147e-01 3.99720485e-01 1.93439889e-01\n",
      " 5.70188469e-01 9.55122412e-01 1.92633978e-02 3.28560726e-01\n",
      " 9.21694042e-02 8.87420662e-01 3.22458962e-01 3.19408070e-02\n",
      " 1.16563219e-01 8.52116393e-01 3.59067491e-01 4.01193983e-01\n",
      " 6.18812006e-01 6.42982944e-01 5.01913965e-02 8.00049996e-01\n",
      " 9.38579895e-01 3.42656359e-01 3.40610209e-02 4.44727420e-01\n",
      " 5.76225955e-01 5.10021135e-01 9.37505750e-01 4.17636662e-01\n",
      " 9.60726634e-02 5.89835214e-01 7.15600842e-01 7.13765854e-01\n",
      " 3.99322681e-01 3.21092439e-02 7.04127827e-01 2.68795090e-01\n",
      " 9.20620498e-01 9.94152425e-01 7.05363049e-01 9.13402358e-01\n",
      " 9.49843978e-01 5.99020924e-01 4.78797563e-01 3.49742019e-01\n",
      " 4.96709729e-01 3.00905060e-02 4.97155710e-01 9.47299842e-01\n",
      " 9.41938672e-01 4.82762496e-01 4.63342751e-01 5.48960373e-01\n",
      " 8.33860446e-01 6.49218314e-01 1.18376398e-02 4.46517645e-01\n",
      " 6.25613656e-01 4.83650641e-01 7.31374775e-01 4.51344198e-01\n",
      " 3.55295212e-01 9.91992171e-01 5.25680933e-01 4.67775736e-01\n",
      " 1.36945933e-02 1.21298272e-01 2.53193930e-01 2.30214377e-01\n",
      " 8.83097765e-01 5.10878220e-01 3.70051575e-01 1.66010596e-01\n",
      " 4.13104381e-01 3.41374653e-01 7.20704690e-02 5.77617530e-01\n",
      " 9.32637060e-01 6.55668147e-01 8.05429834e-01 4.54640406e-01\n",
      " 7.83254737e-01 6.07318819e-01 3.73415736e-01 2.92611108e-02\n",
      " 9.72057926e-01 9.85920631e-01 7.01641449e-01 2.31058154e-01\n",
      " 4.27309955e-01 6.55023777e-01 8.94637848e-01 9.67020584e-03\n",
      " 5.62417667e-01 7.96310479e-01 1.88976006e-01 8.71380216e-01\n",
      " 6.88514400e-01 7.84272279e-01 8.28746323e-01 2.13097530e-01\n",
      " 9.67557022e-01 1.11467011e-01 3.97413966e-02 9.74163353e-01\n",
      " 9.35057977e-01 7.25589204e-01 6.30537481e-01 5.91672987e-02\n",
      " 7.71467101e-01 3.53658483e-01 9.90404886e-01 5.29187503e-01\n",
      " 4.99340252e-02 2.00097936e-02 3.26073867e-01 8.05621970e-01\n",
      " 4.14823656e-01 9.42730898e-01 5.07842614e-01 6.73629554e-01\n",
      " 3.64501298e-01 9.06649151e-01 6.16547969e-01 8.21086663e-01\n",
      " 8.87637226e-01 5.39292925e-01 6.47079716e-02 2.62504591e-01\n",
      " 1.86288270e-02 3.40762601e-01 6.47090745e-01 1.66233744e-02\n",
      " 2.33559591e-01 3.91455300e-01 6.65804877e-01 9.05472344e-01\n",
      " 1.39045801e-01 6.91209856e-01 1.56435605e-01 2.49310972e-01\n",
      " 6.38150241e-01 1.92648420e-01 1.70410219e-01 4.91666157e-01\n",
      " 8.58919458e-01 8.97776672e-01 1.63702870e-01 1.91870134e-01\n",
      " 5.67261294e-01 9.71638720e-01 7.21643929e-01 7.43463664e-01\n",
      " 1.85740330e-01 2.76848881e-01 5.51328097e-01 4.65928943e-01\n",
      " 4.75271679e-02 1.75229846e-01 9.13584117e-01 3.66072206e-01\n",
      " 7.70707054e-01 2.74835651e-01 5.74406341e-01 3.32368658e-01\n",
      " 9.13763820e-01 5.02909445e-01 8.73265713e-01 8.37051102e-01\n",
      " 7.11125596e-01 7.67453133e-01 5.76413400e-01 6.20252804e-01\n",
      " 1.05320716e-01 7.81489329e-01 8.17493004e-01 2.16124795e-02\n",
      " 6.43426301e-01 7.32784522e-01 9.06764631e-01 7.53442222e-01\n",
      " 7.67906336e-01 2.21997576e-01 4.42209344e-02 8.50336950e-01\n",
      " 3.88364083e-01 1.79239353e-01 2.89457729e-01 6.99347700e-01\n",
      " 4.39206159e-01 9.57651086e-02 5.09631016e-01 7.70619775e-01\n",
      " 4.24302121e-01 6.45871799e-01 9.35783480e-01 1.52211371e-01\n",
      " 1.10633132e-01 5.11857634e-01 6.85627057e-01 8.52676693e-01\n",
      " 9.88755955e-01 2.14210920e-01 6.94164332e-01 4.99811981e-01\n",
      " 3.57985721e-01 6.82466866e-01 6.56117646e-01 6.62926912e-01\n",
      " 3.67521894e-01 7.31242244e-01 8.03961819e-01 3.85404507e-02\n",
      " 8.06070347e-01 8.90924499e-01 9.41982224e-01 6.74140965e-01\n",
      " 1.56324290e-01 2.78956210e-02 8.11533799e-01 2.78146200e-01\n",
      " 5.09654499e-01 9.96903835e-01 4.86797072e-01 2.24789022e-01\n",
      " 1.01558061e-01 8.41212159e-01 7.89717972e-01 3.49600169e-01\n",
      " 9.16524681e-01 2.82347274e-01 8.64261903e-02 9.22926563e-01\n",
      " 4.84788803e-01 2.86799824e-02 9.92848331e-01 4.85628768e-01\n",
      " 5.14289082e-01 6.23383296e-01 8.40549432e-01 2.60531689e-01\n",
      " 3.38604398e-01 8.88729911e-01 6.18503633e-01 2.87538489e-02\n",
      " 5.84932520e-01 1.40355162e-01 9.54534630e-01 4.05591980e-01\n",
      " 2.62866961e-01 8.05434161e-01 7.74130964e-01 6.84524535e-01\n",
      " 9.95195062e-01 8.95278188e-02 1.53020220e-01 1.44012455e-01\n",
      " 3.11439631e-01 9.62757832e-01 1.40879550e-01 5.67485304e-01\n",
      " 9.10089837e-01 5.92819229e-02 2.36509321e-01 8.13659549e-01\n",
      " 2.16485444e-01 1.34324461e-01 3.12854611e-01 3.35689157e-01\n",
      " 4.94057295e-01 6.40290158e-01 5.29548140e-01 4.53676811e-01\n",
      " 7.98604203e-01 6.76764242e-01 3.91893897e-01 1.51504583e-01\n",
      " 1.82228199e-01 7.29643232e-01 5.04670798e-01 7.30021854e-01\n",
      " 8.46025268e-01 3.73014669e-01 9.83123734e-01 9.20544065e-01\n",
      " 5.77140468e-01 4.40730176e-01 5.53208457e-01 7.85465925e-01\n",
      " 8.27234719e-01 5.80057017e-01 3.81658228e-01 4.50666064e-01\n",
      " 6.99131516e-01 8.90012714e-01 8.37876399e-01 5.42147996e-01\n",
      " 5.33195214e-01 5.25233434e-02 9.03051983e-01 1.39384930e-01\n",
      " 8.69004957e-01 2.28080700e-01 5.64603244e-01 9.25717086e-01\n",
      " 7.70915777e-02 5.56499749e-01 4.26237294e-02 6.35893555e-01\n",
      " 7.91727314e-02 9.81893014e-01 7.10832218e-01 7.26869959e-01\n",
      " 4.10136146e-01 9.64397602e-01 4.25307735e-01 1.19269370e-01\n",
      " 4.38871768e-01 8.91849186e-01 5.44972072e-02 2.24733738e-01\n",
      " 1.05604243e-01 9.25789648e-01 8.28036054e-01 4.75468835e-01\n",
      " 8.98854548e-01 3.86138397e-01 5.93346736e-01 1.05751391e-02\n",
      " 1.07005688e-01 2.85842664e-02 9.94781694e-01 8.14487515e-01\n",
      " 8.79414586e-01 8.45991597e-01 9.12429123e-01 6.29211666e-01\n",
      " 6.83912996e-01 5.61392620e-01 2.29863820e-01 7.78174638e-01\n",
      " 1.28685966e-01 8.18261521e-01 6.94435956e-01 6.54183002e-01\n",
      " 3.33548935e-01 5.25100494e-01 8.06206721e-01 2.06225889e-01\n",
      " 4.29662076e-01 3.39796617e-01 3.88249962e-01 1.86243196e-01\n",
      " 8.48347886e-01 8.12629576e-01 6.58219858e-01 7.51059937e-01\n",
      " 4.20207229e-01 1.81425224e-01 4.35827356e-01 4.47481019e-01\n",
      " 2.57481053e-01 5.05853680e-01 1.97417888e-01 4.22307016e-01\n",
      " 7.21495322e-01 5.65036769e-01 1.10247097e-01 6.83414425e-01\n",
      " 4.62640772e-01 6.40240703e-01 8.40437093e-01 9.61225775e-01\n",
      " 3.78805546e-03 4.36820762e-01 4.90278981e-01 2.18698646e-01\n",
      " 8.88582582e-01 7.40300293e-01 4.11437689e-01 3.30385421e-01\n",
      " 2.40936151e-01 7.97901062e-01 8.11356306e-01 2.70951202e-01\n",
      " 6.12041818e-01 4.48633556e-01 9.14838804e-02 4.56374647e-01\n",
      " 5.45238663e-01 5.63474022e-01 2.80926240e-02 9.15871503e-01\n",
      " 4.77591146e-01 4.04310274e-01 9.62321483e-01 5.28578343e-01\n",
      " 1.90463028e-01 7.31361149e-01 4.37935802e-02 9.69958535e-01\n",
      " 5.13463113e-01 8.74555871e-01 6.05822989e-02 9.23622784e-01\n",
      " 8.97903679e-01 6.79803698e-01 8.62772195e-01 2.85199853e-01\n",
      " 6.10619060e-01 9.65161297e-01 2.49822826e-02 9.13203608e-02\n",
      " 4.46418313e-01 3.47076446e-01 7.63432466e-01 3.47370277e-01\n",
      " 1.54783866e-01 5.67568477e-01 2.14420107e-01 1.55166867e-01\n",
      " 7.30063847e-02 7.37129688e-01 2.95763859e-01 3.09477621e-01\n",
      " 4.06974689e-01 3.03717126e-02 9.23486370e-01 5.70503340e-04\n",
      " 4.90019330e-01 2.64053841e-01 9.31047644e-01 6.61010315e-01\n",
      " 7.10470987e-01 7.17867537e-01 1.68776453e-01 3.56990895e-01\n",
      " 9.72292527e-01 5.80561975e-02 6.74272216e-01 2.33945409e-01\n",
      " 4.74893943e-01 6.35471201e-01 8.48354563e-01 1.72580373e-01\n",
      " 1.67389388e-01 7.32129157e-01 4.94640091e-01 1.49911413e-01\n",
      " 8.89932001e-01 8.75271830e-01 4.70982884e-01 8.69480535e-02\n",
      " 1.86586174e-01 5.66060402e-01 5.77496128e-01 5.62388840e-02\n",
      " 4.41568829e-01 4.46972554e-01 4.20468367e-01 8.46977898e-01\n",
      " 2.23334126e-01 6.94860961e-01 1.04072419e-01 2.82992074e-01\n",
      " 8.80032048e-01 1.00760784e-01 4.22920479e-01 3.02784546e-01\n",
      " 9.40071880e-01 3.61036901e-01 7.49799630e-01 1.59789003e-01\n",
      " 4.83956284e-01 1.36960964e-01 9.10131360e-01 7.72795356e-01\n",
      " 1.35418332e-01 3.00858139e-01 8.61555314e-01 6.23494347e-01\n",
      " 4.81777281e-01 7.83833847e-01 4.83140072e-01 6.64407292e-02\n",
      " 9.67223527e-01 8.79299412e-01 2.60523247e-01 8.41638207e-01\n",
      " 6.62876908e-01 3.67281220e-01 9.18279533e-01 8.67933160e-01\n",
      " 5.81060040e-01 2.73053371e-01 3.51510107e-01 7.91254093e-01\n",
      " 7.70518665e-01 4.29721979e-01 8.47371685e-01 2.94070052e-01\n",
      " 7.28122741e-01 9.52339599e-02 2.05944691e-02 5.74996485e-01\n",
      " 6.87239360e-01 5.72967837e-01 5.15090218e-03 4.47389891e-01\n",
      " 3.90021392e-01 4.40205221e-01 4.12408173e-01 6.98085270e-01\n",
      " 9.06364375e-01 9.18214558e-02 6.26959432e-01 2.75597991e-01\n",
      " 1.78093152e-01 6.14604674e-01 7.49010947e-01 5.74212832e-01\n",
      " 4.54622650e-01 7.18250120e-01 1.17958351e-01 9.08928726e-01\n",
      " 1.06267865e-01 7.27537119e-01 6.19088409e-01 3.33936005e-01\n",
      " 3.22740787e-01 8.78175349e-01 1.64079486e-02 4.45819609e-01\n",
      " 1.59273661e-01 8.22842286e-01 1.41579773e-01 9.58391286e-01\n",
      " 6.90999703e-01 6.64611514e-01 3.98740961e-01 1.40226280e-01\n",
      " 6.53232660e-01 9.15113604e-01 4.64366497e-01 1.45158891e-01\n",
      " 9.68471777e-01 4.50141914e-01 3.94012467e-01 8.82743970e-01\n",
      " 4.00383835e-01 9.36837608e-01 2.19384221e-01 7.40344118e-01\n",
      " 6.81660716e-02 6.19095180e-01 4.22810069e-01 6.91826076e-01\n",
      " 2.44726918e-01 7.66165503e-01 3.19239875e-01 5.04967616e-01\n",
      " 3.18321256e-01 6.44086606e-02 8.29653004e-02 2.76765889e-01\n",
      " 5.61999163e-01 7.53000241e-01 9.42053845e-01 5.34387270e-01\n",
      " 9.58236940e-01 4.97893990e-01 5.91062677e-01 9.73179329e-01\n",
      " 7.72882842e-02 4.75147639e-01 1.65868026e-01 9.64183666e-01\n",
      " 8.57531270e-01 5.70065164e-01 2.21895374e-01 1.79601919e-01\n",
      " 6.73376308e-01 7.78300569e-01 3.57456947e-01 2.02664620e-01\n",
      " 4.61565685e-01 8.35017824e-01 3.29537783e-01 9.16894704e-01\n",
      " 4.84721419e-01 6.03439359e-02 8.28982007e-02 8.43099793e-01\n",
      " 8.30238299e-01 8.64174719e-01 9.46186376e-01 3.95101685e-01\n",
      " 8.19380982e-02 8.52006462e-01 7.00572834e-01 7.08520566e-01\n",
      " 1.32166531e-02 1.02257661e-01 2.24945540e-01 3.31169878e-01\n",
      " 2.63029730e-01 9.66858852e-03 1.72949286e-01 2.88846580e-01\n",
      " 4.09626092e-01 5.46109483e-01 9.05712925e-03 9.97059145e-01\n",
      " 9.56468278e-01 9.50934747e-01 3.61403333e-01 5.82179558e-01\n",
      " 1.14479934e-01 1.72199171e-01 1.13941464e-01 3.59389534e-01\n",
      " 8.43199173e-01 8.06406440e-01 6.84303341e-01 4.83909745e-01\n",
      " 5.91620994e-01 9.49134764e-01 5.06670813e-02 1.19759485e-02\n",
      " 2.75622621e-01 2.20788431e-01 3.70015763e-01 4.57839231e-01\n",
      " 2.51983448e-01 9.54993022e-02 9.64698760e-01 4.36392427e-01\n",
      " 1.74746060e-02 5.24583949e-01 4.20856755e-02 7.71595173e-02\n",
      " 7.70790146e-01 3.36374687e-01 1.55046007e-01 7.44597048e-01\n",
      " 4.68360950e-01 2.81557185e-01 5.06970791e-02 9.31328234e-01\n",
      " 2.32381487e-01 7.97604539e-01 6.23555957e-01 3.57981303e-01\n",
      " 5.51628418e-01 1.97991979e-01 4.92773203e-01 8.27001492e-01\n",
      " 5.19831068e-01 9.05042451e-01 6.90029831e-01 5.45553156e-01\n",
      " 8.22076395e-01 5.55396217e-01 9.03962504e-01 5.06058079e-01\n",
      " 4.52805735e-01 2.13179202e-01 2.47335795e-02 3.98245237e-01\n",
      " 5.04931241e-01 1.82527526e-01 5.72368703e-01 6.82205743e-01\n",
      " 2.02640164e-01 3.25295591e-01 4.04949151e-01 9.57931485e-01\n",
      " 1.65899373e-01 6.79188293e-01 5.77113704e-01 1.57200680e-01\n",
      " 2.81087005e-01 1.26611726e-01 8.82077432e-01 9.25738299e-01\n",
      " 6.92252464e-01 6.79293757e-01 2.81810408e-01 4.19626924e-01\n",
      " 4.96505848e-01 1.08041931e-01 9.62357222e-01 7.55698737e-01\n",
      " 6.37979796e-01 1.82173850e-01 5.86097799e-01 2.58124028e-01\n",
      " 2.77125552e-01 5.05878775e-01 5.46607614e-01 9.60051292e-01\n",
      " 9.90922448e-01 1.93444043e-01 8.80126234e-01 8.47598374e-01\n",
      " 7.73826252e-01 8.94485100e-01 7.67279390e-01 9.07945110e-01\n",
      " 2.32203294e-01 7.24988606e-01 3.17218140e-01 8.97161749e-01\n",
      " 3.59299164e-01 1.18557195e-01 2.10309461e-01 6.03616648e-02\n",
      " 9.11370420e-01 4.02307768e-02 2.62437694e-01 1.40117162e-01\n",
      " 2.43600826e-01 6.58185432e-01 2.06664167e-01 7.12342321e-01\n",
      " 8.26578551e-01 8.13313097e-01 4.77440930e-01 7.49918683e-01\n",
      " 2.39147215e-01 5.32722429e-01 1.71407999e-01 5.57629405e-01\n",
      " 2.09659415e-01 5.75430532e-01 8.51869917e-01 5.47251909e-02\n",
      " 6.02762407e-02 7.18069195e-02 1.11020135e-01 3.03137922e-01\n",
      " 2.82408579e-01 9.60996525e-01 1.93682828e-01 7.21478159e-01\n",
      " 3.40310638e-01 4.24104413e-01 3.86067275e-01 6.74805072e-01\n",
      " 3.70739421e-01 7.33696853e-01 7.39855972e-01 3.57218009e-01\n",
      " 8.20522513e-01 8.66941776e-02 5.58291736e-01 8.55918392e-01\n",
      " 5.70319309e-02 5.85966185e-01 8.70672153e-01 2.11844657e-03\n",
      " 4.56304743e-02 1.79665939e-01 8.81343344e-02 5.44157606e-01\n",
      " 6.59433508e-01 6.23360274e-01 6.57758453e-01 1.93166793e-01\n",
      " 9.03851959e-01 9.82941444e-01 2.41804829e-01 7.27406661e-01\n",
      " 3.02558924e-01 8.37968415e-01 5.51241040e-01 6.78052275e-01\n",
      " 2.57835979e-01 9.27869131e-01 1.54407506e-01 5.42980554e-01\n",
      " 6.38927347e-01 1.02729640e-01 6.82344242e-02 1.26918040e-01\n",
      " 6.10211886e-01 6.79237865e-01 8.29769949e-01 1.19625402e-01\n",
      " 1.96647504e-01 5.06322723e-01 4.76147760e-01 1.25089938e-02\n",
      " 3.41455296e-01 6.00003197e-01 5.85298557e-01 8.67467091e-01\n",
      " 7.00308023e-01 8.87838716e-01 9.49952350e-01 5.47916113e-01\n",
      " 3.02838810e-02 8.93844668e-01 5.95742929e-01 8.84144154e-01]\n"
     ]
    }
   ],
   "source": [
    "X = np.random.uniform(size=1000) # A random sample of uniformly distributed numbers\n",
    "print(X)"
   ]
  },
  {
   "cell_type": "code",
   "execution_count": 5,
   "id": "6d0badde",
   "metadata": {
    "slideshow": {
     "slide_type": "-"
    }
   },
   "outputs": [
    {
     "data": {
      "text/plain": [
       "<Axes: ylabel='Count'>"
      ]
     },
     "execution_count": 5,
     "metadata": {},
     "output_type": "execute_result"
    },
    {
     "data": {
      "image/png": "[encoded data removed]",
      "text/plain": [
       "<Figure size 640x480 with 1 Axes>"
      ]
     },
     "metadata": {},
     "output_type": "display_data"
    }
   ],
   "source": [
    "sns.histplot(X)"
   ]
  },
  {
   "cell_type": "code",
   "execution_count": 6,
   "id": "6bb24ece-0c08-4ea6-b76a-947460ba5c8a",
   "metadata": {
    "slideshow": {
     "slide_type": "slide"
    }
   },
   "outputs": [
    {
     "name": "stdout",
     "output_type": "stream",
     "text": [
      "[ 2.27051226e+00  4.10819138e+00  1.10507666e+01  1.31593975e+01\n",
      " -1.52985194e+00  1.00070609e+01  1.24232294e+01  8.29606120e+00\n",
      "  8.00459713e+00  2.12446521e+00  1.20843135e+01  1.49783354e+01\n",
      "  8.85965423e+00  4.98233365e+00  1.32569829e+01  1.06673541e+01\n",
      "  9.95132024e+00  1.35554101e+01  6.61109973e+00  3.45130465e+00\n",
      "  1.76064961e+01  1.34441994e+01  5.98850612e+00  1.35849188e+01\n",
      "  1.45764473e+01  5.66251153e+00  5.69921426e+00  1.15331505e+01\n",
      "  7.30766061e+00  1.92058254e+01  1.67130239e+01  4.90307712e+00\n",
      " -2.22308715e-01  7.03641082e+00  7.03839713e+00  7.49035481e+00\n",
      "  1.03446625e+01  1.75577542e+01  9.30622325e+00  9.71467307e+00\n",
      "  1.27739228e+01  1.07311626e+01  4.12767158e+00  7.28953696e+00\n",
      "  9.93359478e+00  9.85559606e+00  4.41125796e+00  4.43470945e+00\n",
      "  1.68922458e+01  5.65058491e+00  1.27447403e+01  1.66658438e+01\n",
      "  6.69541437e+00  1.32400777e+01  1.04344957e+01  9.24685456e+00\n",
      "  1.33443169e+01  1.20315104e+01  1.60229832e+01  8.34361680e+00\n",
      "  6.95324036e+00  2.14116272e+01  1.25959653e+01  2.14614853e+00\n",
      "  7.43861585e+00  1.33972116e+01  5.55481159e+00  2.16406490e+01\n",
      "  3.15038960e+00  9.06873592e+00  1.28237682e+01  7.78505609e+00\n",
      "  1.04671046e+01  8.37863821e+00  1.44884126e+01  5.10512334e-01\n",
      "  2.88338567e+00  3.18547374e+00  1.09268299e+01  6.04772911e+00\n",
      "  9.48970718e+00  9.16720148e+00  1.27936433e+01  9.18433936e+00\n",
      "  1.04097677e+01  8.19494438e+00  1.12994743e+01  6.40658924e+00\n",
      "  2.39752052e+00  1.38667443e+01  9.01248118e+00  1.91020602e+01\n",
      "  6.14691523e+00  3.67650095e+00  1.17537367e+01  2.00098133e+01\n",
      "  8.17085310e+00  9.10305441e+00  1.09517393e+01  1.90357049e+01\n",
      "  1.59426388e+01  9.46129644e+00  2.01856363e+01  2.20458163e+01\n",
      "  1.28696457e+01  1.32123333e+01  1.01833807e+01  1.09368574e+01\n",
      "  1.43265885e+01  6.19096712e+00  1.39316148e+01  3.26416918e+00\n",
      "  1.39801674e+01  1.15637749e+01  6.31979788e+00  8.04775900e+00\n",
      "  3.15301748e+00  1.93395997e+01  1.38815124e+01 -1.11364752e+00\n",
      "  2.85201718e+00  1.54658236e+01  6.52067006e+00  7.64652654e+00\n",
      "  1.65500006e+01  7.50079811e+00  1.38830791e+01  7.64536131e+00\n",
      "  1.14560150e+01  1.55861383e+01  1.02186773e+01  1.16266025e+01\n",
      "  1.21709741e+01  1.22785458e+01  1.26555275e+01  1.43978546e+01\n",
      "  5.31247647e+00  1.18400679e+01  7.53602861e+00  2.76929874e+00\n",
      "  4.20468157e+00  8.68443908e+00  1.43231375e+01  1.87797058e+01\n",
      " -8.53199087e+00  6.97874051e+00  6.79568228e+00  1.01918228e+01\n",
      "  6.80031696e+00  1.10391231e+01  1.42110629e+01  1.38045142e+01\n",
      "  1.34981216e+01  6.32376749e+00  1.39694067e+01  3.85647942e+00\n",
      "  1.45192086e+01  1.64341956e+01  5.91164953e+00  1.30421603e+00\n",
      "  8.98578291e+00  7.71008752e+00  1.02423694e+01  6.71490326e+00\n",
      "  4.08164925e+00  8.79407365e+00  1.44795268e+01  7.62059898e+00\n",
      " -8.10401955e-01  1.59600915e+01  1.88472228e+01  8.14532664e+00\n",
      "  1.59337401e+01  5.63046266e+00  1.70551742e+01  1.45848746e+01\n",
      "  1.32560513e+01  8.70861789e+00  1.32770215e+01  3.21509128e+00\n",
      "  1.39775261e+01  1.04093550e+01  1.68509012e+01  8.99149302e+00\n",
      "  4.45305665e+00  8.14311336e+00  8.27648129e+00  2.48855712e+00\n",
      "  6.84377079e+00  6.04966491e+00  8.20618021e+00  9.60506457e+00\n",
      "  3.82190493e+00  1.60366418e+01  1.28715359e+01  1.63679635e+01\n",
      "  1.49953973e+01  3.40410212e+00  1.42437913e+01  9.82200609e+00\n",
      "  1.41502642e+01  1.42443047e+01  1.46139054e+01  1.04798592e+01\n",
      "  4.81116291e+00  1.13020870e+01  1.17494329e+01  6.05868133e+00\n",
      "  1.53854692e+01  1.67672800e+01  6.15297342e+00  1.04816612e+01\n",
      "  8.82587012e+00  1.17742124e+01  7.39948745e+00  1.06058054e+01\n",
      "  7.59391721e+00  6.32638195e+00  9.13614707e+00  9.00911219e+00\n",
      "  1.43677271e+01  1.61688197e+01  9.97362032e+00  3.87363860e+00\n",
      "  1.97275909e+01  1.43882935e+01  9.40124218e+00  1.48669505e+01\n",
      "  8.17657499e+00  1.68280457e+01  5.83524484e+00  6.68069532e+00\n",
      "  2.48385214e+01  8.19173969e+00  1.55164399e+01  8.73811212e+00\n",
      "  4.11867089e+00  7.16617913e+00  4.09089031e+00  1.01656467e+01\n",
      "  7.61365974e+00  1.61262095e+01 -6.07252878e-01  9.25563796e+00\n",
      "  1.54242827e+01  1.23118760e+01  9.89264187e+00  7.38413538e+00\n",
      "  1.04384481e+01  4.90280121e+00  1.10290425e+01  1.81905052e+01\n",
      "  1.26431467e+01  6.64799327e+00  1.13124101e+01  4.88638459e+00\n",
      "  3.48903969e+00  7.12186659e+00  1.12833096e+01  8.67741113e+00\n",
      "  1.65421430e+01  1.39212121e+01  4.91415948e+00  1.05930666e+01\n",
      "  6.70475753e+00  7.90270886e+00  6.90684061e+00  1.31093468e+01\n",
      "  1.13000988e+01  8.58881801e+00  2.39692006e+01  1.72864745e+01\n",
      "  1.23695335e+01  1.54606957e+01  7.82871422e+00  1.05093457e+01\n",
      "  8.50226799e+00  1.00314544e+01  1.13528360e+01  7.13216544e+00\n",
      "  5.60582344e+00  4.06785716e+00  2.03919624e+01  2.19425967e+01\n",
      "  2.87147552e+00  1.13893351e+01  1.04798375e+01  1.01076939e+01\n",
      "  2.42692064e+00  1.46699302e+01  1.34733369e+01  1.05836365e+01\n",
      "  2.37986560e+01  5.76015150e+00  7.34139003e+00  8.40816921e+00\n",
      "  9.46406756e+00  1.24610553e+01  1.68311176e+01  1.66497263e+01\n",
      "  6.93135542e+00  8.40795679e+00  7.09349061e+00  1.20793957e+01\n",
      "  1.60646629e+01  6.53816480e+00  8.91337754e+00  3.87548182e+00\n",
      "  1.00177861e+01  4.01826833e+00  2.50409490e+00  7.22028558e+00\n",
      "  9.68247445e+00  1.28235967e+01  5.32883576e+00  1.04951511e+01\n",
      "  1.05758031e+01  9.11630450e+00  9.53739399e+00  1.63086005e+01\n",
      "  6.86214186e+00  8.95422939e+00  8.13010120e+00  4.91531196e+00\n",
      "  1.27723107e+01  6.86024249e+00  1.81969489e+01  9.02794476e+00\n",
      "  6.96899509e+00  1.54511182e+01  7.62260440e+00  1.16717902e+01\n",
      "  1.73946549e+01  7.48014095e+00  8.26128465e+00  5.98770684e+00\n",
      "  4.19654485e+00  7.47892442e+00  1.15315464e+01  1.26639373e+01\n",
      "  1.72911189e+01  1.49902030e+01  1.57137348e+00  9.83199109e+00\n",
      "  1.05757843e+01  1.31585925e+01  6.87073156e+00  1.55471553e+01\n",
      "  1.49926871e+01  6.59284879e+00  1.79630430e+01  1.67309812e+01\n",
      "  7.66909485e+00  1.51581448e+01  1.13954670e+01  1.31686152e+01\n",
      "  3.71858544e+00  1.86904950e+01  1.43348138e+01  5.56243745e+00\n",
      "  1.04003483e+01  2.61387326e+00  9.71672294e+00  7.63171487e+00\n",
      "  1.40400375e+01  1.48258086e+01  4.39873008e+00  4.89588714e+00\n",
      "  1.77311437e+01  1.46318803e+00  9.42240386e+00  1.88443152e+01\n",
      "  1.04047554e+01  5.53798517e+00  1.19807137e+01  1.38688201e+01\n",
      "  4.52122781e+00  1.16503178e+01  7.41457086e+00  4.67801623e+00\n",
      "  1.88899958e+01  8.69226905e+00  3.31922653e+00  9.13028442e+00\n",
      "  1.15886931e+01  1.23438065e+01  1.51986906e+01  1.10912337e+01\n",
      "  1.36896764e+01  1.00518606e+01  3.36931237e+00  1.77868360e+00\n",
      "  1.48136140e+01  7.15052196e+00  1.27051380e+01  9.10620191e+00\n",
      "  1.02939393e+01  1.95668693e+01  9.08368307e+00  3.62377067e+00\n",
      "  1.29486597e+01  1.04571870e+01  6.69337827e+00  8.89772176e+00\n",
      "  1.41690202e+01  1.41633174e+01  8.80692078e+00  1.61694904e+01\n",
      "  1.02204926e+01  1.23094264e+01  1.01074179e+01  7.58996509e+00\n",
      "  1.34211768e+01  6.20322790e+00  4.88601433e+00  3.02613983e+00\n",
      "  6.68453999e+00  2.13968202e+01  8.57807155e+00  1.08309272e+01\n",
      "  1.24251489e+01  9.80441570e+00  9.16304692e+00  1.18388758e+01\n",
      "  8.48633491e+00  1.50731948e+01  1.97615076e+01  7.21871824e+00\n",
      "  1.11515863e+01  1.75885426e+01  9.59888957e+00  9.60881504e+00\n",
      "  5.36382417e+00  1.37429026e+01  6.33727088e+00  1.64109939e+01\n",
      "  1.83238805e+01  1.00131975e+01  9.95008477e+00  3.35128093e+00\n",
      "  8.79096564e+00  9.22626371e+00  1.03307075e+01  1.20257201e+01\n",
      "  1.05114394e+01  9.83024864e+00  7.13457182e+00  9.27573567e+00\n",
      "  1.21459293e+01  1.78900634e+01  9.54201634e+00  1.39781183e+01\n",
      "  1.54487083e+01  1.23608486e+01  1.36513793e+01  8.44008211e+00\n",
      "  1.18880260e+01  7.66119423e+00  1.25745290e+01  6.90414441e+00\n",
      "  6.63860074e+00  2.08358595e+01  1.27041676e+01  3.59431926e-01\n",
      "  9.27081733e+00  1.43073242e+01  1.02295258e+01  8.33733594e+00\n",
      "  4.61500114e+00  5.33191815e+00  6.36947972e+00  8.53116699e+00\n",
      "  3.04107899e+00  2.92060468e+00  7.93106629e+00  1.18870725e+01\n",
      "  4.59247491e+00  1.49020747e+01  1.44837714e+01  1.55496923e+01\n",
      "  2.01682056e+00  9.62043002e+00  7.07924178e+00  5.88675818e+00\n",
      "  1.38358993e+00  7.61961516e+00  3.31846741e+00  3.97182622e+00\n",
      "  2.02554329e+00  1.00203427e+01  4.14016658e+00  8.22266398e+00\n",
      "  1.45771357e+01  1.90597705e+01  8.56189786e+00  7.22153966e+00\n",
      "  1.18322262e+01  1.99512007e+00  9.98852313e+00  1.12563096e+01\n",
      "  3.07924047e+00  2.86770950e-01  4.78282798e+00  9.77138951e+00\n",
      "  3.87886490e+00  5.69521939e+00  1.15906392e+01  8.50352211e+00\n",
      "  7.67681012e+00  1.16937631e+01  8.09726025e+00  8.36039154e+00\n",
      "  1.07394439e+01  1.05893675e+01  1.32335880e+01  1.36952373e+01\n",
      "  1.35340313e+01  8.78214846e+00  1.28784488e+01  2.47044968e+01\n",
      "  1.69273611e+01  1.38529348e+01  1.31914122e+01  9.69759714e+00\n",
      "  5.03416031e+00  1.20396902e+01  4.90521546e+00  5.72631559e+00\n",
      "  4.06712483e+00  6.83979606e+00  1.04897462e+01  1.36598651e+01\n",
      "  1.06553451e+01  1.01633564e+01  1.37019870e+01  8.83322776e+00\n",
      "  1.32627408e+01  1.55522812e+01  1.25945116e+01  1.70969799e+01\n",
      "  4.32695768e+00  1.50287538e+01  1.36425234e+00  1.33300848e+01\n",
      "  3.79232767e+00  1.68957404e+01  1.22512904e+01  5.61150810e-01\n",
      "  1.40554386e+01  8.15784335e+00  1.31376442e+01  3.96079284e+00\n",
      "  9.99961007e+00  1.80954065e+01  4.12077116e+00  6.49846635e+00\n",
      "  1.13537250e+01  6.42909613e+00  1.02965654e+01  1.22483998e+01\n",
      "  1.92198590e+01  1.58676996e+00  1.59529132e+01  1.67307778e+01\n",
      "  8.97412157e+00  3.08374306e+00  7.19065217e+00  5.54600151e+00\n",
      "  6.99516785e+00  2.02829346e+01  7.82102772e+00  9.16775375e+00\n",
      "  7.48595555e+00  1.32210082e+01  9.01885665e+00  1.21325986e+00\n",
      "  1.05077023e+01 -8.44097212e-01  1.57999603e+01  1.65622041e+01\n",
      "  1.37366581e+01  5.34000007e+00  9.83523405e+00  9.80604683e+00\n",
      "  1.68090861e+01  1.04030988e+01  9.12781014e+00  7.48572864e+00\n",
      "  1.01236850e+01  5.37535098e+00  1.10797361e+01  1.07153348e+01\n",
      " -7.94154812e-02  9.16586862e+00  1.49740917e+01  9.92738009e+00\n",
      "  1.44333543e+00  8.95164818e+00  7.47909882e+00  9.36982230e+00\n",
      "  1.69310392e+01  6.88128026e+00  1.71783783e+01  7.85674989e+00\n",
      "  1.29223208e+01  1.20872979e+01  9.02131444e+00  1.15895006e+01\n",
      "  1.27039782e+01  1.72355002e+01  2.57996684e+00  1.58216211e+01\n",
      "  1.02452189e+01  2.44410312e+00  4.07878377e+00  4.75140983e+00\n",
      "  7.82912564e+00  1.45366645e+01  1.51256732e+01  9.94874770e+00\n",
      "  1.49606545e+01  1.27526235e+01  1.62423733e+01  9.84665661e+00\n",
      "  1.28869312e+01  3.78273265e+00  1.05877594e+01  9.75404393e+00\n",
      "  1.56211662e+01  1.40192388e+01  6.76277220e+00  7.54676650e+00\n",
      "  1.18802431e+01  1.21487712e+01  1.33336694e+01  4.97867674e+00\n",
      "  4.71489715e+00  1.02005065e+01  6.37603284e+00  9.29047364e+00\n",
      "  5.35827933e+00  1.03758692e+01  1.34582304e+01  1.81595964e+01\n",
      "  1.08793931e+01  1.08499148e+01  1.74486912e+01  6.57978071e+00\n",
      "  7.52169536e+00  5.57422367e+00  1.57082681e+01  1.70461249e+00\n",
      "  7.00354852e+00  1.57309879e+01  3.70598577e+00  3.87945048e-01\n",
      "  3.83623611e+00  1.47988702e+01  1.89522648e+01  7.35074088e+00\n",
      "  4.21105477e+00  3.34225388e+00  1.17317910e+01  1.74683142e+01\n",
      "  1.14026638e+01  1.55457600e+01  1.13651715e+01  1.03881499e+01\n",
      "  6.12484037e+00  1.92409818e+01  8.73998903e+00  1.26621546e+01\n",
      "  1.53815109e+01  1.31829457e+01  1.00241989e+01  9.60755037e+00\n",
      "  1.03737419e+01  1.71538881e+01  8.85630622e+00  9.51684680e+00\n",
      "  6.45156642e+00  1.04697417e+01  7.64437456e+00  1.06765228e+01\n",
      "  6.46527496e+00  1.68461908e+01  2.81806987e+00  1.43115580e+01\n",
      "  1.39431720e+01 -6.15344939e-01  5.98000038e+00  1.04345244e+01\n",
      "  1.69092262e+01  9.44372389e+00  7.64282345e+00  1.05835481e+01\n",
      "  8.68785947e+00  8.73098411e+00  1.26710635e+01  7.64817197e+00\n",
      "  1.66947996e+01  1.74898282e+01  1.64118849e+00  1.37496929e+01\n",
      "  5.58034660e-02  9.48672059e+00  1.21434954e+01  7.76822103e+00\n",
      "  6.22796411e+00  1.71030078e+01  9.58559160e+00  1.70918673e+01\n",
      "  7.18213206e+00  1.32899268e+01  9.79881903e+00  4.63051664e+00\n",
      " -1.61462645e+00  4.81473710e+00  1.32169334e+01  2.38141843e+01\n",
      "  9.03625874e+00  1.03488505e+01  1.59118196e+01  1.64426609e+01\n",
      "  2.14104712e+01  9.98556606e+00  1.31320130e+01  1.40347664e+01\n",
      "  5.29087217e+00  6.22484482e+00  1.25394823e+01  1.37973014e+01\n",
      "  1.10414628e+01  3.76945548e+00  1.33090269e+01  1.25771213e+01\n",
      "  1.98165054e+01  1.24594606e+01  1.56449000e+01  7.32024204e+00\n",
      "  1.38709726e+01  1.46049686e+01  1.23315504e+01  3.34308765e+00\n",
      "  7.40710924e+00  8.60989569e+00  6.78884659e+00  5.11192624e+00\n",
      "  1.47715324e+01  1.77186618e+01  2.71757622e+00  2.43293558e+00\n",
      "  1.01053240e+01  9.39738488e+00  1.11801599e+01  1.98455785e+01\n",
      "  2.02313655e+01  1.38984840e+01  1.58090018e+01  1.36772123e+01\n",
      "  2.42610329e+00  3.57598033e+00  8.56525096e+00  1.40881228e+01\n",
      "  1.20764545e+01  1.39473013e+01  1.14819416e+01  1.70577935e+01\n",
      "  4.04946042e+00  1.26182584e+01  3.92812303e+00 -2.26008223e+00\n",
      "  1.06672568e+01  7.87626130e+00  1.29716732e+01  1.94401614e+01\n",
      "  1.50520068e+01  9.10427378e+00  7.22289984e+00  8.88202008e+00\n",
      "  6.32178647e+00  1.30548873e+01  1.71164148e+01  1.15906914e+01\n",
      "  6.12193628e+00  9.18964930e+00  5.90627587e+00  1.34230132e+01\n",
      "  1.44493060e-01  3.39679377e+00  1.19505905e+01  1.67002105e+01\n",
      " -2.66482218e+00  9.55475560e+00  4.31905352e+00  1.47018987e+01\n",
      "  1.77126634e+01  1.02430589e+01  1.77615608e+01  1.30980821e+01\n",
      "  1.14264175e+01  1.48221998e+01  1.69667533e+01  1.55039580e+01\n",
      "  1.53280098e+01  8.78671473e+00  8.45162940e+00 -2.03897620e-01\n",
      "  9.06198006e+00  1.11850017e+01  9.23929915e+00  1.61523769e+01\n",
      "  3.91253581e+00  1.18637987e+01  1.12014496e+01  6.06410567e+00\n",
      "  2.05248092e+01  3.22966300e+00  6.90106380e+00  1.01216083e+01\n",
      "  9.44557739e+00  7.50746163e+00  1.06628868e+01  7.50155105e+00\n",
      "  8.99791101e+00  1.06289748e+01  2.69717550e+00  1.54110237e+01\n",
      "  1.01942518e+01  5.41969122e+00  1.04727789e+01  1.25981940e+01\n",
      "  5.34029783e+00  8.83843262e+00  1.02069100e+01  3.22060668e+00\n",
      "  1.12842626e+01  1.47777841e+01  9.86885523e+00  1.16943944e+01\n",
      "  9.98798934e+00  1.42649376e+01  8.65297051e+00  4.80837268e+00\n",
      "  1.51251007e+01  1.05348651e+01  1.25526838e+01  7.53049494e+00\n",
      "  1.27927755e+00  8.02926600e+00  9.36802173e+00  7.48261948e+00\n",
      " -3.21840236e+00  5.00977363e+00  8.94354814e+00  6.20849780e+00\n",
      "  1.22713248e+01  7.30626386e+00  1.03078821e+01  1.90667067e+01\n",
      "  3.83881311e+00  1.81715295e+01  1.47416413e+01  1.56767054e+01\n",
      "  1.38685932e+01  7.86301123e+00  1.18212070e+01  1.47659471e+01\n",
      "  2.56815498e+00  9.40437144e+00  1.16718904e+01  1.44002959e+01\n",
      "  8.23793882e+00  1.20088319e+01  9.79334666e+00  4.92159442e+00\n",
      "  1.13431708e+01  8.55164668e+00  9.15136643e+00  1.05669253e+01\n",
      "  1.61057166e+01  1.06354030e+01  1.67722624e+01  1.08356206e+01\n",
      "  1.13009954e+01  7.71392834e+00 -3.97146983e+00  8.20163747e+00\n",
      "  5.20825933e+00  1.52377055e+01  1.28359918e+01 -1.33614689e+00\n",
      "  1.28346998e+01  4.06454462e+00 -1.80399979e-01  1.09337650e+01\n",
      "  9.23807410e+00  1.23341413e+01  1.21367327e+01  7.32200055e+00\n",
      "  1.66903758e+01  1.74922827e+01  4.23123074e+00  1.05030785e+01\n",
      "  1.63174356e+01  3.10836818e+00  2.01737346e+01  1.31314508e+01\n",
      "  7.54916305e+00  6.07083547e+00  5.68437481e+00  1.43796929e+01\n",
      "  1.40561458e+01  1.28992169e+01  5.43552559e+00  1.16367466e+00\n",
      "  1.52296394e+01  9.52187637e+00  8.31307505e+00  1.48375688e+01\n",
      "  9.29244640e+00  4.27559023e+00  1.16069372e+01  1.55187747e+01\n",
      "  2.59250660e+00  1.16681028e+01  5.23114923e+00  7.40804658e+00\n",
      "  7.05329242e+00  1.52141656e+01  8.05451801e+00  1.97029493e-02\n",
      "  6.54075510e+00  1.09755212e+01  1.56613678e+01 -9.41524692e-02\n",
      "  9.38820014e+00  6.88294311e+00  6.71240181e+00  1.02463650e+01\n",
      "  8.92988609e+00  9.45111846e+00  1.84111479e+01  1.06687867e+01\n",
      "  1.45972248e+01  1.18562716e+01  9.82177921e+00  3.87575687e+00\n",
      "  6.88840575e+00  1.10182141e+01  1.37736293e+01  1.17244742e+01\n",
      "  2.12475103e+00  1.62996716e+01  2.09142735e+01  9.26947435e+00\n",
      "  4.92846599e+00  1.17687951e+00  8.72485047e+00  1.26861047e+01\n",
      "  1.31059821e+01  1.82696707e+01  8.07260628e+00  1.62986325e+01\n",
      "  6.01303502e+00  1.35142572e+01  8.01616149e+00  6.84683971e-01\n",
      "  1.20166625e+01  1.30375555e+01  1.21808772e+01  8.86693277e+00\n",
      "  1.09306575e+01  1.56458315e+01  1.41078502e+01 -4.52361584e+00\n",
      "  9.74870421e+00  8.05013657e+00  8.79484964e-01  8.72707427e+00\n",
      "  1.58793980e+01  1.79216323e+01  1.26547625e+01  1.28440294e+01\n",
      "  4.96992504e+00  5.54079109e+00  1.73331902e+01  1.57691926e+01\n",
      "  1.56730146e+00  9.76459057e+00  8.97770259e+00  7.55536059e+00\n",
      "  1.74639103e+01  5.33028904e+00  1.19548538e+01  1.19200454e+01\n",
      "  1.55951473e+01  1.28095751e+01  8.45884077e+00  1.21875168e+01]\n"
     ]
    }
   ],
   "source": [
    "X = np.random.normal(10,5,size=1000) # A random sample of normally distributed numbers\n",
    "print(X)"
   ]
  },
  {
   "cell_type": "code",
   "execution_count": 7,
   "id": "b94dd357",
   "metadata": {
    "slideshow": {
     "slide_type": "-"
    }
   },
   "outputs": [
    {
     "data": {
      "text/plain": [
       "<Axes: ylabel='Density'>"
      ]
     },
     "execution_count": 7,
     "metadata": {},
     "output_type": "execute_result"
    },
    {
     "data": {
      "image/png": "[encoded data removed]",
      "text/plain": [
       "<Figure size 640x480 with 1 Axes>"
      ]
     },
     "metadata": {},
     "output_type": "display_data"
    }
   ],
   "source": [
    "sns.kdeplot(X)"
   ]
  },
  {
   "cell_type": "markdown",
   "id": "79642768",
   "metadata": {
    "slideshow": {
     "slide_type": "slide"
    }
   },
   "source": [
    "# Asymptotic Theory"
   ]
  },
  {
   "cell_type": "markdown",
   "id": "b4f19bfc-084b-419a-a27f-02a861d03dd5",
   "metadata": {
    "slideshow": {
     "slide_type": "slide"
    }
   },
   "source": [
    "## Markov's Inequality\n",
    "- Suppose that $R(x_i) \\ge 0$, so all the random variable only takes non-negative values\n",
    "- Pick a value $a$ that is between $x_1$ and $x_N$. What can we say about the relationship between $p$, $\\mathbb{E}[R]$, and $a$?"
   ]
  },
  {
   "cell_type": "markdown",
   "id": "5ecf7d28",
   "metadata": {
    "slideshow": {
     "slide_type": "fragment"
    }
   },
   "source": [
    "\\begin{alignat*}{2}\n",
    "\\mathbb{E}[R] &=& \\sum_{R(x_i) < a} p(x_i) R(x_i) + \\sum_{R(x_i) \\ge a} p(x_i) R(x_i) \\\\\n",
    "& \\ge & \\sum_{R(x_i) < a} p(x_i) 0 + \\sum_{R(x_i) \\ge a} p(x_i) R(x_i) \\\\\n",
    "& \\ge & \\sum_{R(x_i) \\ge a} p(x_i) a \\\\\n",
    "& =& p[R \\ge a] a\n",
    "\\end{alignat*}"
   ]
  },
  {
   "cell_type": "markdown",
   "id": "fdf455af",
   "metadata": {
    "slideshow": {
     "slide_type": "fragment"
    }
   },
   "source": [
    "- This implies that if $R(x) \\ge 0$ for all $x$ in $S$, then for any $a$, \n",
    "$$\n",
    "p[R \\ge a] \\le \\dfrac{\\mathbb{E}[R]}{a}\n",
    "$$\n",
    "- This is called **Markov's Inequality**: The probability that a non-negative random variable exceeds a threshold is bounded by its expectation divided by the threshold"
   ]
  },
  {
   "cell_type": "markdown",
   "id": "fc4c53e3-db53-4d47-b5ec-7f719f50c744",
   "metadata": {
    "slideshow": {
     "slide_type": "slide"
    }
   },
   "source": [
    "## Chebyshev's Inequality\n",
    "- OK, can we relate $\\mathbb{E}[R]$, $p$, and $\\sigma$ in a useful way?"
   ]
  },
  {
   "cell_type": "markdown",
   "id": "4b55b28d",
   "metadata": {
    "slideshow": {
     "slide_type": "fragment"
    }
   },
   "source": [
    "- If we use Markov's inequality with $R(x) = (x-\\mu)^2$, we get another useful inequality:\n",
    "\\begin{alignat*}{2}\n",
    "p[ |x-\\mu| \\ge d ] &=& p[ \\sqrt{(x-\\mu)^2} \\ge d ] \\\\\n",
    "&=& p[ (x-\\mu)^2 \\ge d^2 ] \\\\\n",
    "&\\le& \\dfrac{\\mathbb{E}[ (X-\\mu)^2 ]}{d^2 }\\\\\n",
    "p[ |x-\\mu| \\ge d  ] &\\le & \\dfrac{\\sigma^2}{d^2 }\\\\\n",
    "\\end{alignat*}"
   ]
  },
  {
   "cell_type": "markdown",
   "id": "22bc944e",
   "metadata": {
    "slideshow": {
     "slide_type": "fragment"
    }
   },
   "source": [
    "- This provides a bound on how far a random variable $R(x)=x$ can be from its average, based on the variance $\\sigma^2$ and a distance $d$:\n",
    "$$\n",
    "p\\left[ |x-\\mu| \\ge d \\right] \\le \\dfrac{\\sigma^2}{d^2}\n",
    "$$\n",
    "- This is called **Chebyshev's Inequality**: The distance $d$ a random variable $X$ is from its mean $\\mu$ is bounded by its variance $\\sigma^2$ divided by the distance squared $d^2$."
   ]
  },
  {
   "cell_type": "markdown",
   "id": "f3283826",
   "metadata": {
    "slideshow": {
     "slide_type": "slide"
    }
   },
   "source": [
    "## Example: Normal\n",
    "- These inequalities are used for theory, not for computations: We have computers for that in 2025\n",
    "- But we can work out a specific example. Let's suppose $X$ is normally distributed, with mean $\\mu$ and standard deviation $\\sigma$\n",
    "- The event $|x-\\mu| \\ge d$ is equivalent to two events: $ x - \\mu \\ge d$ and $ x - \\mu \\le -d $\n",
    "- So we're looking for the probability that $x \\ge \\mu + d$ or $x \\le \\mu - d$\n",
    "- We can use the `scipy.stats.norm` class to do this "
   ]
  },
  {
   "cell_type": "code",
   "execution_count": 8,
   "id": "1242bd70",
   "metadata": {
    "slideshow": {
     "slide_type": "slide"
    }
   },
   "outputs": [
    {
     "name": "stdout",
     "output_type": "stream",
     "text": [
      "sigma^2/d^2 : 1.0\n",
      "0.31731050786291415\n"
     ]
    }
   ],
   "source": [
    "from scipy.stats import norm\n",
    "\n",
    "mu = 100\n",
    "sigma = 1\n",
    "d = 1\n",
    "\n",
    "print('sigma^2/d^2 :', sigma**2/d**2)\n",
    "\n",
    "# So we need two probabilities:\n",
    "# cdf(x, loc=0, scale=1): Cumulative distribution function.\n",
    "P1 = norm.cdf(mu - d, mu, sigma) # x < mu - d\n",
    "P2 = 1 - norm.cdf(mu + d, mu, sigma) # x > mu + d\n",
    "\n",
    "print(P1 + P2)"
   ]
  },
  {
   "cell_type": "markdown",
   "id": "614c3b5c",
   "metadata": {
    "slideshow": {
     "slide_type": "-"
    }
   },
   "source": [
    "- No matter what values you put in, the first line will always be bigger than the second"
   ]
  },
  {
   "cell_type": "code",
   "execution_count": 9,
   "id": "12e1150d",
   "metadata": {
    "slideshow": {
     "slide_type": "slide"
    }
   },
   "outputs": [
    {
     "data": {
      "text/plain": [
       "[None]"
      ]
     },
     "execution_count": 9,
     "metadata": {},
     "output_type": "execute_result"
    },
    {
     "data": {
      "image/png": "[encoded data removed]",
      "text/plain": [
       "<Figure size 640x480 with 1 Axes>"
      ]
     },
     "metadata": {},
     "output_type": "display_data"
    }
   ],
   "source": [
    "mu = 100\n",
    "sigma = .5\n",
    "\n",
    "d_grid = np.linspace(.1,10,200)\n",
    "curve_1 = []\n",
    "curve_2 = []\n",
    "for k in range(len(d_grid)):\n",
    "    d = d_grid[k]\n",
    "    P1 = norm.cdf(mu - d, mu, sigma) # x < mu - d\n",
    "    P2 = 1 - norm.cdf(mu + d, mu, sigma) # x > mu + d   \n",
    "    curve_1.append(sigma**2/d**2)\n",
    "    curve_2.append(P1+P2)\n",
    "\n",
    "fig = sns.lineplot(y=curve_1,x=d_grid,label='$s^2/d^2$')\n",
    "fig = sns.lineplot(y=curve_2,x=d_grid,label='$pr[|X-m| > d]$')\n",
    "fig.set(yscale='log')"
   ]
  },
  {
   "cell_type": "markdown",
   "id": "dbeac622-ff25-4f70-bb6c-2fb1821a4bf0",
   "metadata": {
    "slideshow": {
     "slide_type": "slide"
    }
   },
   "source": [
    "## Independent and Identically Distributed Sequences (iid)\n",
    "- A fundamental concept in probability and statistics is the abstract idea of running an \"experiment\" over and over, and computing statistics for the results\n",
    "- Let $x_1$ be the result of the first experiment, $x_2$ the result of the second, and so on\n",
    "- Assume that the draws $x_1, x_2, ...$ \n",
    "  - are **identically distributed**: They are all drawn from the same distribution function and all have the same mean $\\mu$ and variance $\\sigma^2$\n",
    "  - are **independent**: The outcome of draw $x_n$ doesn't affect the outcome of any draw $x_m$, $m \\neq n$\n",
    "- The **sample average** of our experimental sequence is\n",
    "$$\n",
    "\\bar{X}_n = \\dfrac{1}{n} \\sum_{i=1}^n x_i\n",
    "$$\n",
    "and the **sample variance** of our experimental sequence is\n",
    "$$\n",
    "\\bar{s}_n^2 = \\dfrac{1}{n} \\sum_{i=1}^n (x_i - \\bar{X}_n)^2\n",
    "$$"
   ]
  },
  {
   "cell_type": "markdown",
   "id": "455ec9e8-0dbd-4965-93a4-e1d6eefe8fae",
   "metadata": {
    "slideshow": {
     "slide_type": "slide"
    }
   },
   "source": [
    "## Independent and Identically Distributed Sequences (iid)\n",
    "- The sample average and sample variance are now, themselves, random variables, with their own outcomes, events, probabilities, and so on\n",
    "- What is the expected value of $\\bar{X}_n$?\n",
    "$$\n",
    "\\mathbb{E}[\\bar{X}_n] = \\mathbb{E}\\left[ \\dfrac{1}{n} \\left( X_1 + X_2 + ... + X_n \\right) \\right] = \\dfrac{\\mathbb{E}[X_1] + ... + \\mathbb{E}[X_n]}{n} = \n",
    "\\dfrac{\\mu + ... + \\mu}{n} = \\dfrac{n\\mu}{n} = \\mu\n",
    "$$\n",
    "- Likewise (but slightly different steps)\n",
    "$$\n",
    "\\mathbb{V}[\\bar{X}_n] = \\mathbb{V}\\left[\\frac{1}{n}(X_1 + X_2 + ... + X_n)\\right] = \\frac{1}{n^2} \\mathbb{V}[X_1 + X_2 + ... + X_n] =\\frac{1}{n^2} \\left( \\mathbb{V}[X_1] + \\mathbb{V}[X_2] + ... + \\mathbb{V}[X_n] \\right) = \\frac{n}{n^2} \\sigma^2 = \\frac{\\sigma^2}{n}\n",
    "$$\n",
    "- To emphasize that the sample space of $S_n$ depends on the sequence $n$, we'll write the probability function as $p_n$"
   ]
  },
  {
   "cell_type": "markdown",
   "id": "af25833f-7f0b-4db4-9fcb-30484e937c2c",
   "metadata": {
    "slideshow": {
     "slide_type": "slide"
    }
   },
   "source": [
    "## Law of Large Numbers\n",
    "- Take the random variable as the sample mean $X_n$ of a sequence of iid random variables, with mean $\\bar{X}_n = \\dfrac{1}{n} \\sum_{t=1}^n x_i$ and variance $\\mathbb{V}[\\bar{X}_n] = \\sigma^2/n$\n",
    "- By Chebyshev's inequality,\n",
    "$$\n",
    "p_n\\left[ |\\bar{X}_n - \\mu|  \\ge d \\right] \\le \\dfrac{\\mathbb{V}[\\bar{X}_n]}{d^2} = \\dfrac{\\sigma^2}{n d^2}.\n",
    "$$\n",
    "- **As $n$ gets large on the far right, $\\frac{\\sigma^2}{nd^2}$ goes to zero, for any $d$.**\n",
    "- This is called the **Weak Law of Large Numbers**: Sample averages *converge in probability* to the true average $\\mu$ as long as the variance $\\sigma^2$ is finite.\n",
    "- The importance of this idea cannot be understated: This is one of the most important ideas that humanity has discovered"
   ]
  },
  {
   "cell_type": "markdown",
   "id": "611c6ae9",
   "metadata": {
    "slideshow": {
     "slide_type": "slide"
    }
   },
   "source": [
    "# Examples"
   ]
  },
  {
   "cell_type": "markdown",
   "id": "ff10db5b-9f9e-4b00-9e43-18221564559c",
   "metadata": {
    "slideshow": {
     "slide_type": "slide"
    }
   },
   "source": [
    "## Example: Estimating Probabilities\n",
    "- Python is going to draw a number $h$ between 0 and 1, but it isn't going to tell us what it is. Python will, however, flip a coin that comes up heads[1] with probability $h$ or tails[0] with probability $1-h$\n",
    "- Each flip $x_i$ is either equal to 0 for tails or 1 for heads, so the average of the flips is\n",
    "$$\n",
    "\\bar{X}_n = \\dfrac{x_1+x_2 + ... + x_n}{n} = \\{\\text{The sample proportion of heads}\\} = h_n\n",
    "$$\n",
    "- As the number of flips gets large, by the LLN, the sample average $h_n$ will converge in probability to the true value $h$\n",
    "- As a consequence of the LLN, *sample proportions converge to population probabilities as the sample gets large*"
   ]
  },
  {
   "cell_type": "code",
   "execution_count": 10,
   "id": "6a27e7e0-4192-4ca3-bda2-a8ebc950dd22",
   "metadata": {
    "slideshow": {
     "slide_type": "slide"
    }
   },
   "outputs": [
    {
     "name": "stdout",
     "output_type": "stream",
     "text": [
      "0.32\n",
      "0.25400038900648625\n"
     ]
    }
   ],
   "source": [
    "# Data generation:\n",
    "h = np.random.uniform() # Unfair coin we don't observe\n",
    "n = 100 # Sample Size\n",
    "flips =  np.random.uniform(size=n) < h  # Flips we observe\n",
    "\n",
    "# Our analysis of the data, 'flips':\n",
    "h_n = flips.mean() # Our estimate of h\n",
    "print(h_n)\n",
    "\n",
    "# What's the true value?\n",
    "print(h) # True value\n"
   ]
  },
  {
   "cell_type": "markdown",
   "id": "43087da1-febb-4341-bf85-87c02247265d",
   "metadata": {
    "slideshow": {
     "slide_type": "slide"
    }
   },
   "source": [
    "## Example: Estimating Averages\n",
    "- Any given outcome of a gamble is not informative of the value of the gamble in expectation\n",
    "- But if we average many iid plays of the gamble and average the payoffs, the LLN tells us that the sample average will converge to the true value of the gamble\n",
    "- The expected value calculations we were doing earlier by hand can be done by simulation on a computer"
   ]
  },
  {
   "cell_type": "code",
   "execution_count": 11,
   "id": "fc4c357f-b89f-4546-97ad-2c62238bcc91",
   "metadata": {
    "slideshow": {
     "slide_type": "slide"
    }
   },
   "outputs": [
    {
     "name": "stderr",
     "output_type": "stream",
     "text": [
      "/var/folders/rh/pvlybnnx6h96n6b57j1x48gr0000gp/T/ipykernel_41715/1189491634.py:13: DeprecationWarning: `in1d` is deprecated. Use `np.isin` instead.\n",
      "  winning_rolls = np.in1d(sums,winning_values)\n"
     ]
    },
    {
     "data": {
      "text/plain": [
       "np.float64(0.224)"
      ]
     },
     "execution_count": 11,
     "metadata": {},
     "output_type": "execute_result"
    }
   ],
   "source": [
    "# Set up the gamble:\n",
    "winning_values = np.array([7,11]) # Which values between 2 and 12 count as a 'win'?\n",
    "winning_amount = 1 # Amount received if you win\n",
    "losing_amount = 0 # Amount paid if you lose\n",
    "die = np.arange(6)+1\n",
    "n = 1000 # Number of simulations of the gamble\n",
    "\n",
    "# Simulate the gamble:\n",
    "rolls = np.random.choice(die, size=[n,2])  # Roll 2 dice n times\n",
    "sums = rolls.sum(axis=1)\n",
    "\n",
    "# Determine winning and losing rolls:\n",
    "winning_rolls = np.in1d(sums,winning_values)\n",
    "losing_rolls = 1-winning_rolls\n",
    "\n",
    "# Compute payoffs:\n",
    "payoff = winning_rolls*winning_amount + losing_rolls*losing_amount\n",
    "\n",
    "# Compute expected payoff:\n",
    "payoff.mean()"
   ]
  },
  {
   "cell_type": "markdown",
   "id": "ce864e93-31ed-47c4-af63-706be9fca36d",
   "metadata": {
    "slideshow": {
     "slide_type": "slide"
    }
   },
   "source": [
    "## Example: Regression\n",
    "- How do we know regression means anything?\n",
    "- The optimal coefficients in a simple linear regression $\\hat{y}_i = a + b x_i$ can be written\n",
    "\\begin{alignat*}{2}\n",
    "a^*_N &=& \\dfrac{1}{N} \\sum_{i=1}^N y_i - \\dfrac{ \\frac{1}{N} \\sum_{i=1}^N (y_i - \\bar{y}_n)(x_i-\\bar{x}_n)}{\\frac{1}{N} \\sum_{i=1}^N (x_i- \\bar{x}_n)^2}\\dfrac{1}{N} \\sum_{i=1}^N x_i\\\\\n",
    "b^*_N &=& \\dfrac{ \\frac{1}{N} \\sum_{i=1}^N (y_i - \\bar{y}_n)(x_i-\\bar{x}_n)}{\\frac{1}{N} \\sum_{i=1}^N (x_i- \\bar{x}_n)^2}\n",
    "\\end{alignat*}\n",
    "- These are all just sample averages of various kinds. There are rules about how the LLN can be combined with these kinds of functions to know that $a^*_N$ and $b^*_N$ converge since $\\bar{y}_N$ and $\\bar{x}_N$ converge.\n",
    "- As the sample size gets large, there are theoretical limit values they converge to: We should expect order to arise out of the randomness, even if we have no idea what they are."
   ]
  },
  {
   "cell_type": "code",
   "execution_count": 12,
   "id": "e93f0680-862d-497a-aa4d-c09e94397e02",
   "metadata": {
    "slideshow": {
     "slide_type": "slide"
    }
   },
   "outputs": [
    {
     "name": "stdout",
     "output_type": "stream",
     "text": [
      "1.204911259710379\n",
      "[2.92978403 4.93599522]\n"
     ]
    }
   ],
   "source": [
    "import pandas as pd\n",
    "\n",
    "n = 250 # Number of observations\n",
    "\n",
    "## Data creation:\n",
    "b0 = 1 # True intercept coefficient\n",
    "b1 = 3 # True slope coefficient\n",
    "b2 = 5 # True slope coefficient\n",
    "x1 = np.random.normal(5,2,n) # Covariate 1\n",
    "x2 = np.random.normal(-3,1,n) # Covariate 2\n",
    "noise = np.random.normal(0,1,n) # Error term\n",
    "y = b0 + b1*x1 + b2*x2 + noise # Compute Outcome/Target Variable\n",
    "df = pd.DataFrame({'y':y,'x1':x1,'x2':x2}) # Create data frame\n",
    "\n",
    "## Data analysis:\n",
    "from sklearn.linear_model import LinearRegression # Import linear regression model\n",
    "X = df.loc[:,['x1','x2']] # Construct data matrix\n",
    "y = df['y'] # Response variable\n",
    "reg = LinearRegression().fit(X, y) # Fit the linear model\n",
    "print(reg.intercept_) # Intercept value\n",
    "print(reg.coef_) # Regression coefficients\n"
   ]
  },
  {
   "cell_type": "markdown",
   "id": "5c9b2e87",
   "metadata": {
    "slideshow": {
     "slide_type": "slide"
    }
   },
   "source": [
    "## Example: European Call Option\n",
    "- A **derivative** is a financial contract that is bought and sold, specifying the right to buy an asset at a fixed price on a specified future date\n",
    "- The stock price evolves as $p_{t+1} = p_t + \\sigma \\varepsilon_t$, where the shocks $\\varepsilon_t$ are normally distributed with mean $\\mathbb{E}[\\varepsilon_t] =0$ and standard deviation $\\sigma = 1$\n",
    "- Suppose the stock price is currently valued at $p_0 = 100$. At the **expiration date** in one month, you can buy the stock at the **strike price** of $K$. This is called a **European Call Option**.\n",
    "- Notice you will only purchase the asset in a month if the the price in a month exceeds the strike price.\n",
    "- **What is the probability the time-$t$ price exceeds the strike price $K=95$?** \n",
    "- **What is the fair price of the European Call Option today?**\n",
    "- This is a problem in quantitative finance."
   ]
  },
  {
   "cell_type": "code",
   "execution_count": 13,
   "id": "3764207d",
   "metadata": {
    "slideshow": {
     "slide_type": "slide"
    }
   },
   "outputs": [
    {
     "data": {
      "text/plain": [
       "<matplotlib.lines.Line2D at 0x15d377f40>"
      ]
     },
     "execution_count": 13,
     "metadata": {},
     "output_type": "execute_result"
    },
    {
     "data": {
      "image/png": "[encoded data removed]",
      "text/plain": [
       "<Figure size 640x480 with 1 Axes>"
      ]
     },
     "metadata": {},
     "output_type": "display_data"
    }
   ],
   "source": [
    "import numpy as np\n",
    "import seaborn as sns\n",
    "\n",
    "R = 10\n",
    "sigma = 1\n",
    "p_old = 100\n",
    "T = 30\n",
    "\n",
    "data = []\n",
    "for r in range(R):\n",
    "    shocks = np.random.normal(loc=0,scale=sigma,size=T)\n",
    "    p_old = 100\n",
    "    price_seq = [p_old]\n",
    "    for t in range(T):\n",
    "        p_new = p_old +  shocks[t]\n",
    "        price_seq.append(p_new)\n",
    "        p_old = p_new\n",
    "    data.append(price_seq)\n",
    "\n",
    "sns.lineplot(data)\n",
    "plt.axhline(y=95) "
   ]
  },
  {
   "cell_type": "code",
   "execution_count": 14,
   "id": "d7a93f17",
   "metadata": {
    "slideshow": {
     "slide_type": "slide"
    }
   },
   "outputs": [],
   "source": [
    "import numpy as np\n",
    "import seaborn as sns\n",
    "import matplotlib.pyplot as plt \n",
    "\n",
    "R = 500\n",
    "sigma = 1\n",
    "p_old = 100\n",
    "T = 30\n",
    "\n",
    "value = []\n",
    "exercise = []\n",
    "for r in range(R):\n",
    "    shocks = np.random.normal(loc=0,scale=sigma,size=T)\n",
    "    p_old = 100\n",
    "    price_seq = [p_old]\n",
    "    for t in range(T):\n",
    "        p_new = p_old +  shocks[t]\n",
    "        price_seq.append(p_new)\n",
    "        p_old = p_new\n",
    "    if p_old > 95 : # Buy option\n",
    "        gain = p_old - 95\n",
    "        exr = 1\n",
    "    else:\n",
    "        gain = 0\n",
    "        exr = 0\n",
    "    value.append(gain)\n",
    "    exercise.append(exr)"
   ]
  },
  {
   "cell_type": "code",
   "execution_count": 15,
   "id": "0c6e7a4e",
   "metadata": {
    "slideshow": {
     "slide_type": "slide"
    }
   },
   "outputs": [
    {
     "data": {
      "image/png": "[encoded data removed]",
      "text/plain": [
       "<Figure size 640x480 with 1 Axes>"
      ]
     },
     "metadata": {},
     "output_type": "display_data"
    },
    {
     "name": "stdout",
     "output_type": "stream",
     "text": [
      "Average payout of the asset:  5.179183387190302\n"
     ]
    },
    {
     "data": {
      "image/png": "[encoded data removed]",
      "text/plain": [
       "<Figure size 640x480 with 1 Axes>"
      ]
     },
     "metadata": {},
     "output_type": "display_data"
    }
   ],
   "source": [
    "sns.histplot(value,bins=100).set(title='Realized value')\n",
    "plt.show()\n",
    "sns.histplot(exercise,stat='proportion').set(title='Exercise Probability')\n",
    "print( 'Average payout of the asset: ', np.mean(value) )\n"
   ]
  },
  {
   "cell_type": "markdown",
   "id": "a6c2dc7a",
   "metadata": {
    "slideshow": {
     "slide_type": "slide"
    }
   },
   "source": [
    "# Conclusion"
   ]
  },
  {
   "cell_type": "markdown",
   "id": "5eb572b1",
   "metadata": {
    "slideshow": {
     "slide_type": "slide"
    }
   },
   "source": [
    "## WLLN versus CLT [Stats]\n",
    "- The WLLN says that sample means converges in probability to the true mean for iid sequences, if the variance is finite\n",
    "- The Central Limit Theorem says something else: That the distribution function of $\\sqrt{n}( \\bar{X}_n - \\mu)$ converges to a normal with mean 0 and variance $\\sigma^2$ as the sample size gets large.\n",
    "- These aren't the same: The WLLN says that sample means converge to the truth, while the CLT says the distribution of $(\\bar{X}_n-\\mu)/\\sigma$ converges to a standard normal distribution as the sample size gets large."
   ]
  },
  {
   "cell_type": "markdown",
   "id": "df809568-f0b5-41a6-8826-b37b6b95c679",
   "metadata": {
    "slideshow": {
     "slide_type": "slide"
    }
   },
   "source": [
    "## Next Class\n",
    "- We have just admitted that our estimates (the $h_n$, the regression coefficients, etc.) are noisy: They'll be close to the truth if $N$ is large, by the Law of Large Numbers... but we know they're still not *exactly* correct\n",
    "- Can we quantify this uncertainty about our estimates? How?\n",
    "- This is going to motivate a framework called *bootstrapping*"
   ]
  }
 ],
 "metadata": {
  "celltoolbar": "Slideshow",
  "kernelspec": {
   "display_name": "Python 3 (ipykernel)",
   "language": "python",
   "name": "python3"
  },
  "language_info": {
   "codemirror_mode": {
    "name": "ipython",
    "version": 3
   },
   "file_extension": ".py",
   "mimetype": "text/x-python",
   "name": "python",
   "nbconvert_exporter": "python",
   "pygments_lexer": "ipython3",
   "version": "3.10.18"
  }
 },
 "nbformat": 4,
 "nbformat_minor": 5
}
